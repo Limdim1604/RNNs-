{
 "cells": [
  {
   "cell_type": "code",
   "execution_count": 1,
   "metadata": {
    "_cell_guid": "b1076dfc-b9ad-4769-8c92-a6c4dae69d19",
    "_uuid": "8f2839f25d086af736a60e9eeb907d3b93b6e0e5",
    "execution": {
     "iopub.execute_input": "2024-12-23T15:29:00.173683Z",
     "iopub.status.busy": "2024-12-23T15:29:00.173320Z",
     "iopub.status.idle": "2024-12-23T15:29:00.193400Z",
     "shell.execute_reply": "2024-12-23T15:29:00.192183Z",
     "shell.execute_reply.started": "2024-12-23T15:29:00.173646Z"
    },
    "trusted": true
   },
   "outputs": [
    {
     "ename": "FileNotFoundError",
     "evalue": "[Errno 2] No such file or directory: '/kaggle/input/next-word-prediction/1661-0.txt'",
     "output_type": "error",
     "traceback": [
      "\u001b[1;31m---------------------------------------------------------------------------\u001b[0m",
      "\u001b[1;31mFileNotFoundError\u001b[0m                         Traceback (most recent call last)",
      "Cell \u001b[1;32mIn[1], line 6\u001b[0m\n\u001b[0;32m      2\u001b[0m \u001b[38;5;28;01mimport\u001b[39;00m \u001b[38;5;21;01mrandom\u001b[39;00m\n\u001b[0;32m      4\u001b[0m file_path \u001b[38;5;241m=\u001b[39m \u001b[38;5;124m\"\u001b[39m\u001b[38;5;124m/kaggle/input/next-word-prediction/1661-0.txt\u001b[39m\u001b[38;5;124m\"\u001b[39m\n\u001b[1;32m----> 6\u001b[0m \u001b[38;5;28;01mwith\u001b[39;00m \u001b[38;5;28;43mopen\u001b[39;49m\u001b[43m(\u001b[49m\u001b[43mfile_path\u001b[49m\u001b[43m,\u001b[49m\u001b[43m \u001b[49m\u001b[38;5;124;43m\"\u001b[39;49m\u001b[38;5;124;43mr\u001b[39;49m\u001b[38;5;124;43m\"\u001b[39;49m\u001b[43m)\u001b[49m \u001b[38;5;28;01mas\u001b[39;00m file:\n\u001b[0;32m      7\u001b[0m     raw_text \u001b[38;5;241m=\u001b[39m file\u001b[38;5;241m.\u001b[39mreadlines()\n",
      "File \u001b[1;32m~\\AppData\\Roaming\\Python\\Python312\\site-packages\\IPython\\core\\interactiveshell.py:324\u001b[0m, in \u001b[0;36m_modified_open\u001b[1;34m(file, *args, **kwargs)\u001b[0m\n\u001b[0;32m    317\u001b[0m \u001b[38;5;28;01mif\u001b[39;00m file \u001b[38;5;129;01min\u001b[39;00m {\u001b[38;5;241m0\u001b[39m, \u001b[38;5;241m1\u001b[39m, \u001b[38;5;241m2\u001b[39m}:\n\u001b[0;32m    318\u001b[0m     \u001b[38;5;28;01mraise\u001b[39;00m \u001b[38;5;167;01mValueError\u001b[39;00m(\n\u001b[0;32m    319\u001b[0m         \u001b[38;5;124mf\u001b[39m\u001b[38;5;124m\"\u001b[39m\u001b[38;5;124mIPython won\u001b[39m\u001b[38;5;124m'\u001b[39m\u001b[38;5;124mt let you open fd=\u001b[39m\u001b[38;5;132;01m{\u001b[39;00mfile\u001b[38;5;132;01m}\u001b[39;00m\u001b[38;5;124m by default \u001b[39m\u001b[38;5;124m\"\u001b[39m\n\u001b[0;32m    320\u001b[0m         \u001b[38;5;124m\"\u001b[39m\u001b[38;5;124mas it is likely to crash IPython. If you know what you are doing, \u001b[39m\u001b[38;5;124m\"\u001b[39m\n\u001b[0;32m    321\u001b[0m         \u001b[38;5;124m\"\u001b[39m\u001b[38;5;124myou can use builtins\u001b[39m\u001b[38;5;124m'\u001b[39m\u001b[38;5;124m open.\u001b[39m\u001b[38;5;124m\"\u001b[39m\n\u001b[0;32m    322\u001b[0m     )\n\u001b[1;32m--> 324\u001b[0m \u001b[38;5;28;01mreturn\u001b[39;00m \u001b[43mio_open\u001b[49m\u001b[43m(\u001b[49m\u001b[43mfile\u001b[49m\u001b[43m,\u001b[49m\u001b[43m \u001b[49m\u001b[38;5;241;43m*\u001b[39;49m\u001b[43margs\u001b[49m\u001b[43m,\u001b[49m\u001b[43m \u001b[49m\u001b[38;5;241;43m*\u001b[39;49m\u001b[38;5;241;43m*\u001b[39;49m\u001b[43mkwargs\u001b[49m\u001b[43m)\u001b[49m\n",
      "\u001b[1;31mFileNotFoundError\u001b[0m: [Errno 2] No such file or directory: '/kaggle/input/next-word-prediction/1661-0.txt'"
     ]
    }
   ],
   "source": [
    "import numpy as np\n",
    "import random\n",
    "\n",
    "file_path = \"/kaggle/input/next-word-prediction/1661-0.txt\"\n",
    "\n",
    "with open(file_path, \"r\") as file:\n",
    "    raw_text = file.readlines()\n"
   ]
  },
  {
   "cell_type": "code",
   "execution_count": 53,
   "metadata": {
    "execution": {
     "iopub.execute_input": "2024-12-23T15:29:00.195339Z",
     "iopub.status.busy": "2024-12-23T15:29:00.194995Z",
     "iopub.status.idle": "2024-12-23T15:29:00.226290Z",
     "shell.execute_reply": "2024-12-23T15:29:00.224848Z",
     "shell.execute_reply.started": "2024-12-23T15:29:00.195305Z"
    },
    "trusted": true
   },
   "outputs": [],
   "source": [
    "merged_text = \" \".join(raw_text)\n",
    "\n",
    "# Optional: Strip extra spaces and normalize spacing\n",
    "merged_text = merged_text.replace(\"\\n\", \" \").replace(\"\\r\", \" \").strip()\n",
    "merged_text = \" \".join(merged_text.split())  # Ensure single spacing\n",
    "\n",
    "merged_text = merged_text[1171:]"
   ]
  },
  {
   "cell_type": "code",
   "execution_count": 54,
   "metadata": {
    "execution": {
     "iopub.execute_input": "2024-12-23T15:29:00.229178Z",
     "iopub.status.busy": "2024-12-23T15:29:00.228695Z",
     "iopub.status.idle": "2024-12-23T15:29:00.264688Z",
     "shell.execute_reply": "2024-12-23T15:29:00.263389Z",
     "shell.execute_reply.started": "2024-12-23T15:29:00.229139Z"
    },
    "trusted": true
   },
   "outputs": [],
   "source": [
    "import re\n",
    "# sentences = merged_text \n",
    "sentences = re.split(r'(?<=[.!?])\\s+', merged_text.strip())"
   ]
  },
  {
   "cell_type": "code",
   "execution_count": 55,
   "metadata": {
    "execution": {
     "iopub.execute_input": "2024-12-23T15:29:00.267075Z",
     "iopub.status.busy": "2024-12-23T15:29:00.266651Z",
     "iopub.status.idle": "2024-12-23T15:29:00.289266Z",
     "shell.execute_reply": "2024-12-23T15:29:00.287825Z",
     "shell.execute_reply.started": "2024-12-23T15:29:00.267018Z"
    },
    "trusted": true
   },
   "outputs": [
    {
     "name": "stdout",
     "output_type": "stream",
     "text": [
      "50\n"
     ]
    }
   ],
   "source": [
    "sentences = sentences[:50]\n",
    "\n",
    "print(len(sentences))"
   ]
  },
  {
   "cell_type": "code",
   "execution_count": 56,
   "metadata": {
    "execution": {
     "iopub.execute_input": "2024-12-23T15:29:00.291118Z",
     "iopub.status.busy": "2024-12-23T15:29:00.290500Z",
     "iopub.status.idle": "2024-12-23T15:29:00.312640Z",
     "shell.execute_reply": "2024-12-23T15:29:00.311016Z",
     "shell.execute_reply.started": "2024-12-23T15:29:00.291075Z"
    },
    "trusted": true
   },
   "outputs": [
    {
     "name": "stdout",
     "output_type": "stream",
     "text": [
      "['before', 'returning', 'servant', 'position.', 'top-hat', 'woman', 'process.', 'her', 'chest', 'doings:', 'hot', 'can’t', 'fail', 'official', 'sunk', 'fierce', 'chamber', 'this', 'might', 'effusive.', 'you', 'actions.', 'yourself', 'there?”', 'rooms', 'still,', 'have', 'finally', 'clear.', 'motives', 'adjusted', 'following', 'too', 'world', 'reasoning', 'such', 'deeply', 'twentieth', 'member', 'would', 'Watson.', 'getting', 'name.', 'good', 'each', 'figure', 'You', 'baffled', 'drawing', 'yours.”', 'placed', 'dreams', 'summons', 'desire', 'that', 'drug,', 'twice', 'out.”', 'times.”', 'there', 'caused', 'forefinger,', 'around', '“Indeed,', 'lived', 'tell', 'Bohemian', 'though', 'clumsy', 'home-centred', 'Obviously', 'armchair,', 'word', 'powers.', 'sex.', 'instance', 'his', 'time', 'me', 'eyes', 'extraordinary', 'you,”', 'blind.', 'successive', 'Holmes', 'himself', 'be', 'delicately', 'factor', 'against', 'so!', 'take', 'black', 'across', 'scored', 'passions,', 'often?”', 'signs', 'intended', 'The', 'yet', 'I,', 'must', 'had', 'press,', '“You', 'felt', 'absorb', 'simplicity', 'scent', 'sneer.', 'spoken,', 'said', 'under', 'at', 'But', 'finds', 'In', 'practice),', 'through', 'particularly', 'notice,', 'wife', 'armchair.', 'in', '“I', 'attracted', 'burned,', 'sensitive', 'gasogene', 'books,', 'spare', 'is', 'down', 'results.', 'other.', 'true', 'secreted', 'throwing', 'medical', 'always', 'for', 'inside', 'remained', 'gibe', '“Frequently.”', 'case', 'murder,', 'formerly', 'you.”', 'rubbed', 'Hence,', 'put', 'habit,', 'Just', 'admirably', 'companion.', 'mind', 'account', 'Adler.', 'has', 'admirable', 'happiness,', 'he', 'left', 'hardly', 'among', 'brilliantly', 'never', 'but', 'slavey.', 'waved', 'way', 'many?', 'clearing', 'Watson,', 'first', 'from', 'their', 'see', 'she', 'As', 'Holland.', 'corner.', 'am', 'don’t', 'seized', 'fancy,', 'vile', 'were', 'dreadful', 'do', 'me.', 'hopeless', 'who', 'walk', 'us', 'just', 'more.', 'save', 'more,', 'edges', 'One', 'reasons,”', 'show', 'intrusions', 'form', 'eclipses', 'upon', 'even', 'love', 'week', 'him', 'bulge', 'observation', 'stethoscope,', 'myself,', '“my', 'silver', 'up,', 'temperament', 'leather', 'patient', 'him,', 'To', 'an', '“When', 'softer', 'things', 'lover', 'drowsiness', 'Thursday', 'marriage', 'swiftly,', 'it', 'woman.', 'Atkinson', 'deduction.', 'part', 'cigarette,', 'explained', 'incidents', 'tall,', 'balanced', 'almost', 'Mary', 'go', 'saw', 'and', 'know?”', 'frequently', 'finely', 'mess,', 'successfully', 'wet', 'Odessa', 'of', 'society', 'keen', 'whole', 'than', 'All', 'March,', 'shoe,', 'singular', 'journey', 'know.”', 'strong', 'answered.', 'emotion', 'my', 'steps', 'brothers', 'sufficient', 'attitude', 'specimen', 'lighting', 'to', 'which', 'girl?”', 'wooing,', 'sole', 'soul,', 'abandoned', 'mind.', 'suits', 'it.', 'country', 'abhorrent', 'mark', 'rang', 'your', 'head', 'well-remembered', 'daily', 'came', 'From', 'lit,', 'much.', 'answered,', 'high-power', 'drifted', 'again.', 'order', 'a', 'energy', 'someone', 'double', 'seldom', 'police.', 'if', 'these', 'since', 'very', 'weather,', 'give', 'dull,', 'little', 'pass', 'together.', 'master', 'reasoner', 'crack', 'led', 'not', 'particularly,', 'trained', 'cuts.', 'readers', '“How', 'reigning', 'threw', 'vague', 'study', 'changed', 'parallel', 'easily', 'hall', 'he;', 'seen,', 'akin', 'mood', 'nitrate', 'dark', 'practice', 'distinction', 'manner', 'machine', 'most', 'Grit', 'former', 'appears', 'deduction', 'introduce', 'lodgings', 'careless', 'fire', 'returned', 'round', 'half', 'Study', 'civil', 'remarked,', '_the_', 'now', 'men’s', 'away', 'Holmes,', 'mention', 'so,”', 'establishment,', 'me,', 'remove', 'did', 'incorrigible,', 'observe.', 'they', 'harness.”', 'every', 'him.', 'shared', '1888—I', 'been', 'are', 'emotions,', 'looked', 'story.', 'again,', 'Beyond', 'spirit', 'cocaine', 'by', 'heard', 'lately.', 'pounds', 'ridiculously', 'drug-created', 'hundreds', 'clothes', 'was', 'interests', 'glad,', 'With', 'fashion.', 'Jane,', 'perfect', '“It', 'however,', 'when', 'lead', 'Trincomalee,', 'or', 'could', 'one', 'firelight', 'problem.', 'centuries', 'cigars,', 'I', '“Seven!”', 'our', 'occupied', 'cold,', 'activity,', 'simple', 'knew', 'thought', 'ever,', 'and,', 'buried', 'instrument,', 'Baker', 'Sherlock', 'questionable', 'It', 'deduce', 'complete', 'given', 'long,', 'itself,”', 'room', 'spoke', 'walks', 'smelling', 'Irene', 'employing', 'help', 'family', 'lately,', 'those', 'stood', 'memory.', 'imagine', 'into', 'it,', 'man', 'shown', 'believe', 'how', 'veil', '“Then,', 'mental', 'strikes', '“Wedlock', 'process', 'dear', 'until', 'clues,', 'kindly', 'disturbing', 'over', 'iodoform,', 'think,', 'How', '“My', 'My', 'between', 'throw', 'ease', 'so', 'up', 'out', 'there,', 'nature', 'predominates', '“Quite', 'observed.', 'gentleman', 'scraped', 'alternating', 'Holmes,”', '“Then', 'own', 'He', 'with', 'where', 'side', 'nervous', 'explain', '“this', 'chuckled', 'immense', 'nature.', 'ambition,', 'told', 'his.', 'carelessly', 'eagerly,', 'was,', 'mission', 'seven', 'behind', 'passed', '(for', 'thing', 'active', 'certainly', 'any', 'Trepoff', 'associated', 'late', 'trifle', 'remarked.', 'boot-slitting', 'old', 'London', 'risen', 'while', 'introspective', 'Then', 'admit', 'eye,', 'ago.', 'pronounce', 'see,', 'crime,', 'work', 'tragedy', 'observing', 'all', 'attention,', 'example,', 'other', 'seen', 'Scarlet,', 'know', 'new', 'clasped', 'more', 'night—it', 'the', 'For', 'accomplished', 'They', 'Street.', 'laughing', 'mud', 'faculties', 'indeed,', 'lenses,', 'silhouette', 'on', '“the', 'pacing', 'home', 'malignant', 'should', 'loathed', 'hear', 'indicated', 'false', 'some', 'His', 'crusted', 'as', 'mysteries', 'many', 'bell', 'Street,', 'powers', 'And', 'delicate', 'six', 'hands', 'own.', 'rise', 'dubious', 'practice,', 'observer—excellent', 'was;', 'door,', 'merely', 'precise', 'profession.”', 'friend', 'right', 'distracting', 'few', '“Well,', 'room.”', 'Adler,', 'doubt', '<UNK>']\n"
     ]
    }
   ],
   "source": [
    "vocab = list(set(word for sentence in sentences for word in sentence.split()))\n",
    "vocab.append(\"<UNK>\")  # Thêm token đặc biệt\n",
    "print(vocab)"
   ]
  },
  {
   "cell_type": "code",
   "execution_count": 57,
   "metadata": {
    "execution": {
     "iopub.execute_input": "2024-12-23T15:29:00.314261Z",
     "iopub.status.busy": "2024-12-23T15:29:00.313927Z",
     "iopub.status.idle": "2024-12-23T15:29:00.759277Z",
     "shell.execute_reply": "2024-12-23T15:29:00.757686Z",
     "shell.execute_reply.started": "2024-12-23T15:29:00.314233Z"
    },
    "trusted": true
   },
   "outputs": [],
   "source": [
    "from transformers import AutoTokenizer, AutoModel\n",
    "import torch\n",
    "\n",
    "# Load pre-trained BERT tokenizer and model\n",
    "tokenizer = AutoTokenizer.from_pretrained(\"bert-base-uncased\")\n",
    "model = AutoModel.from_pretrained(\"bert-base-uncased\")\n",
    "# model = model.to(\"cuda\")  # Use GPU if available"
   ]
  },
  {
   "cell_type": "code",
   "execution_count": 58,
   "metadata": {
    "execution": {
     "iopub.execute_input": "2024-12-23T15:29:00.760625Z",
     "iopub.status.busy": "2024-12-23T15:29:00.760327Z",
     "iopub.status.idle": "2024-12-23T15:29:04.671863Z",
     "shell.execute_reply": "2024-12-23T15:29:04.670957Z",
     "shell.execute_reply.started": "2024-12-23T15:29:00.760595Z"
    },
    "trusted": true
   },
   "outputs": [
    {
     "name": "stdout",
     "output_type": "stream",
     "text": [
      "0\n"
     ]
    }
   ],
   "source": [
    "embedded_sentences = [] \n",
    "embedded_words = [] \n",
    "\n",
    "for i, sentence in enumerate(sentences):\n",
    "    \n",
    "    # Tokenize the sentence into subwords\n",
    "    encoded_input = tokenizer(sentence, return_tensors=\"pt\", padding=True, truncation=True, max_length=32, return_offsets_mapping=True, is_split_into_words=False )\n",
    "    input_ids = encoded_input['input_ids']  # Move inputs to GPU\n",
    "    attention_mask = encoded_input['attention_mask']\n",
    "    \n",
    "    # Get embeddings from the model\n",
    "    with torch.no_grad():\n",
    "        outputs = model(input_ids, attention_mask=attention_mask)\n",
    "    \n",
    "    # Extract last hidden state (word embeddings)\n",
    "    word_embeddings = outputs.last_hidden_state.squeeze(0)  # Shape: (sequence_length, hidden_size)\n",
    "\n",
    "    embedded_sentences.append(word_embeddings)  \n",
    "\n",
    "    if ( i % 100 == 0 ) : \n",
    "        print(i) \n"
   ]
  },
  {
   "cell_type": "code",
   "execution_count": 59,
   "metadata": {
    "execution": {
     "iopub.execute_input": "2024-12-23T15:29:04.675332Z",
     "iopub.status.busy": "2024-12-23T15:29:04.674973Z",
     "iopub.status.idle": "2024-12-23T15:29:33.385984Z",
     "shell.execute_reply": "2024-12-23T15:29:33.384890Z",
     "shell.execute_reply.started": "2024-12-23T15:29:04.675304Z"
    },
    "trusted": true
   },
   "outputs": [
    {
     "name": "stdout",
     "output_type": "stream",
     "text": [
      "0\n",
      "100\n",
      "200\n",
      "300\n",
      "400\n",
      "500\n",
      "600\n"
     ]
    }
   ],
   "source": [
    "\n",
    "for i, word in enumerate(vocab):\n",
    "    \n",
    "    # Tokenize the sentence into subwords\n",
    "    encoded_input = tokenizer(word, return_tensors=\"pt\", padding=True, truncation=True, max_length=32, return_offsets_mapping=True, is_split_into_words=False )\n",
    "    input_ids = encoded_input['input_ids'] \n",
    "    attention_mask = encoded_input['attention_mask']\n",
    "    \n",
    "    # Get embeddings from the model\n",
    "    with torch.no_grad():\n",
    "        outputs = model(input_ids, attention_mask=attention_mask)\n",
    "    \n",
    "    # Extract last hidden state (word embeddings)\n",
    "    word_embeddings = outputs.last_hidden_state.squeeze(0)  # Shape: (sequence_length, hidden_size)\n",
    "\n",
    "    word_embeddings = torch.mean(word_embeddings[1:-1], dim=0)\n",
    "    # word_embeddings = mean( word_embeddings[1:word_embeddings.size-1])\n",
    "    embedded_words.append((word, np.array(word_embeddings.reshape(768, 1))))  \n",
    "\n",
    "    if ( i % 100 == 0 ) : \n",
    "        print(i) "
   ]
  },
  {
   "cell_type": "code",
   "execution_count": 60,
   "metadata": {
    "execution": {
     "iopub.execute_input": "2024-12-23T15:29:33.387914Z",
     "iopub.status.busy": "2024-12-23T15:29:33.387583Z",
     "iopub.status.idle": "2024-12-23T15:29:33.392205Z",
     "shell.execute_reply": "2024-12-23T15:29:33.391028Z",
     "shell.execute_reply.started": "2024-12-23T15:29:33.387884Z"
    },
    "trusted": true
   },
   "outputs": [],
   "source": [
    "\n",
    "# print(embedded_sentences[2]) "
   ]
  },
  {
   "cell_type": "markdown",
   "metadata": {},
   "source": []
  },
  {
   "cell_type": "code",
   "execution_count": 61,
   "metadata": {
    "execution": {
     "iopub.execute_input": "2024-12-23T15:29:33.393634Z",
     "iopub.status.busy": "2024-12-23T15:29:33.393233Z",
     "iopub.status.idle": "2024-12-23T15:29:33.420903Z",
     "shell.execute_reply": "2024-12-23T15:29:33.419595Z",
     "shell.execute_reply.started": "2024-12-23T15:29:33.393556Z"
    },
    "trusted": true
   },
   "outputs": [],
   "source": [
    "# Tạo dữ liệu huấn luyện\n",
    "def create_training_data(sentences):\n",
    "    data = []\n",
    "    \n",
    "    for sentence in sentences:\n",
    "        for end in range(5 , len(sentence)-1 ):\n",
    "            input_seq = sentence[1:end]\n",
    "            target_word = sentence[end]\n",
    "            data.append((input_seq, target_word))\n",
    "    return data\n",
    "\n",
    "\n",
    "training_data =create_training_data(embedded_sentences)\n"
   ]
  },
  {
   "cell_type": "code",
   "execution_count": 62,
   "metadata": {
    "execution": {
     "iopub.execute_input": "2024-12-23T15:29:33.423138Z",
     "iopub.status.busy": "2024-12-23T15:29:33.422660Z",
     "iopub.status.idle": "2024-12-23T15:29:35.804147Z",
     "shell.execute_reply": "2024-12-23T15:29:35.803106Z",
     "shell.execute_reply.started": "2024-12-23T15:29:33.423088Z"
    },
    "trusted": true
   },
   "outputs": [],
   "source": [
    "import numpy as np\n",
    "\n",
    "# Lưu từng cặp (input_seq, target_word) thành các tệp nhỏ\n",
    "for i, (input_seq, target_word) in enumerate(training_data):\n",
    "    np.savez_compressed(f\"training_data_{i}.npz\", input_seq=input_seq, target_word=target_word)\n"
   ]
  },
  {
   "cell_type": "code",
   "execution_count": 63,
   "metadata": {
    "execution": {
     "iopub.execute_input": "2024-12-23T15:29:35.805636Z",
     "iopub.status.busy": "2024-12-23T15:29:35.805274Z",
     "iopub.status.idle": "2024-12-23T15:29:35.815807Z",
     "shell.execute_reply": "2024-12-23T15:29:35.814753Z",
     "shell.execute_reply.started": "2024-12-23T15:29:35.805590Z"
    },
    "trusted": true
   },
   "outputs": [
    {
     "name": "stdout",
     "output_type": "stream",
     "text": [
      "Example 1:\n",
      "Input sequence length: 4\n",
      "Input sequence shape: [torch.Size([768]), torch.Size([768]), torch.Size([768]), torch.Size([768])]\n",
      "Target word shape: torch.Size([768])\n",
      "==================================================\n",
      "Example 2:\n",
      "Input sequence length: 5\n",
      "Input sequence shape: [torch.Size([768]), torch.Size([768]), torch.Size([768]), torch.Size([768]), torch.Size([768])]\n",
      "Target word shape: torch.Size([768])\n",
      "==================================================\n",
      "Example 3:\n",
      "Input sequence length: 6\n",
      "Input sequence shape: [torch.Size([768]), torch.Size([768]), torch.Size([768]), torch.Size([768]), torch.Size([768]), torch.Size([768])]\n",
      "Target word shape: torch.Size([768])\n",
      "==================================================\n",
      "Example 4:\n",
      "Input sequence length: 7\n",
      "Input sequence shape: [torch.Size([768]), torch.Size([768]), torch.Size([768]), torch.Size([768]), torch.Size([768]), torch.Size([768]), torch.Size([768])]\n",
      "Target word shape: torch.Size([768])\n",
      "==================================================\n",
      "Example 5:\n",
      "Input sequence length: 8\n",
      "Input sequence shape: [torch.Size([768]), torch.Size([768]), torch.Size([768]), torch.Size([768]), torch.Size([768]), torch.Size([768]), torch.Size([768]), torch.Size([768])]\n",
      "Target word shape: torch.Size([768])\n",
      "==================================================\n"
     ]
    }
   ],
   "source": [
    "for i, (input_seq, target_word) in enumerate(training_data[:5]):\n",
    "    print(f\"Example {i + 1}:\")\n",
    "    print(f\"Input sequence length: {len(input_seq)}\")\n",
    "    print(f\"Input sequence shape: {[embedding.shape for embedding in input_seq]}\")\n",
    "    print(f\"Target word shape: {target_word.shape}\")\n",
    "    print(\"=\" * 50)"
   ]
  },
  {
   "cell_type": "code",
   "execution_count": 64,
   "metadata": {
    "execution": {
     "iopub.execute_input": "2024-12-23T15:29:35.817306Z",
     "iopub.status.busy": "2024-12-23T15:29:35.816962Z",
     "iopub.status.idle": "2024-12-23T15:29:35.850786Z",
     "shell.execute_reply": "2024-12-23T15:29:35.849544Z",
     "shell.execute_reply.started": "2024-12-23T15:29:35.817279Z"
    },
    "trusted": true
   },
   "outputs": [],
   "source": [
    "import numpy as np\n",
    "\n",
    "# Chuyển đổi training_data sang NumPy arrays\n",
    "training_data = [(np.array(input_seq.numpy()), np.array(target_word.numpy())) for input_seq, target_word in training_data]\n"
   ]
  },
  {
   "cell_type": "code",
   "execution_count": 65,
   "metadata": {
    "execution": {
     "iopub.execute_input": "2024-12-23T15:29:35.852174Z",
     "iopub.status.busy": "2024-12-23T15:29:35.851792Z",
     "iopub.status.idle": "2024-12-23T15:29:35.902497Z",
     "shell.execute_reply": "2024-12-23T15:29:35.901377Z",
     "shell.execute_reply.started": "2024-12-23T15:29:35.852144Z"
    },
    "trusted": true
   },
   "outputs": [
    {
     "name": "stdout",
     "output_type": "stream",
     "text": [
      "(768, 1) (768, 1)\n"
     ]
    }
   ],
   "source": [
    "training_data = [\n",
    "    (\n",
    "        np.array([x.reshape(768, 1) for x in input_seq]),  # Đảm bảo từng vector trong input_seq là (768, 1)\n",
    "        np.array(target_word).reshape(768, 1)             # Đảm bảo target_word là (768, 1)\n",
    "    )\n",
    "    for input_seq, target_word in training_data\n",
    "]\n",
    "\n",
    "print(training_data[1][0][1].shape, training_data[1][1].shape)"
   ]
  },
  {
   "cell_type": "code",
   "execution_count": 66,
   "metadata": {
    "execution": {
     "iopub.execute_input": "2024-12-23T15:29:35.903934Z",
     "iopub.status.busy": "2024-12-23T15:29:35.903548Z",
     "iopub.status.idle": "2024-12-23T15:29:35.909751Z",
     "shell.execute_reply": "2024-12-23T15:29:35.908536Z",
     "shell.execute_reply.started": "2024-12-23T15:29:35.903896Z"
    },
    "trusted": true
   },
   "outputs": [
    {
     "name": "stdout",
     "output_type": "stream",
     "text": [
      "870\n"
     ]
    }
   ],
   "source": [
    "print(len(training_data))"
   ]
  },
  {
   "cell_type": "markdown",
   "metadata": {},
   "source": []
  },
  {
   "cell_type": "code",
   "execution_count": 67,
   "metadata": {
    "execution": {
     "iopub.execute_input": "2024-12-23T15:29:35.911215Z",
     "iopub.status.busy": "2024-12-23T15:29:35.910900Z",
     "iopub.status.idle": "2024-12-23T15:36:19.734954Z",
     "shell.execute_reply": "2024-12-23T15:36:19.733268Z",
     "shell.execute_reply.started": "2024-12-23T15:29:35.911189Z"
    },
    "trusted": true
   },
   "outputs": [
    {
     "name": "stdout",
     "output_type": "stream",
     "text": [
      "Iteration 100: Current Loss = 0.2834\n",
      "Iteration 200: Current Loss = 0.2798\n",
      "Iteration 300: Current Loss = 0.2793\n",
      "Iteration 400: Current Loss = 0.2784\n",
      "Iteration 500: Current Loss = 0.2811\n",
      "Iteration 600: Current Loss = 0.2790\n",
      "Iteration 700: Current Loss = 0.2795\n",
      "Iteration 800: Current Loss = 0.2798\n",
      "Epoch 1, Loss: 0.2766\n",
      "Iteration 100: Current Loss = 0.2834\n",
      "Iteration 200: Current Loss = 0.2797\n",
      "Iteration 300: Current Loss = 0.2792\n",
      "Iteration 400: Current Loss = 0.2783\n",
      "Iteration 500: Current Loss = 0.2811\n",
      "Iteration 600: Current Loss = 0.2790\n",
      "Iteration 700: Current Loss = 0.2794\n",
      "Iteration 800: Current Loss = 0.2797\n",
      "Epoch 2, Loss: 0.2765\n",
      "Iteration 100: Current Loss = 0.2833\n",
      "Iteration 200: Current Loss = 0.2796\n",
      "Iteration 300: Current Loss = 0.2792\n",
      "Iteration 400: Current Loss = 0.2782\n",
      "Iteration 500: Current Loss = 0.2810\n",
      "Iteration 600: Current Loss = 0.2789\n",
      "Iteration 700: Current Loss = 0.2794\n",
      "Iteration 800: Current Loss = 0.2797\n",
      "Epoch 3, Loss: 0.2764\n",
      "Iteration 100: Current Loss = 0.2832\n",
      "Iteration 200: Current Loss = 0.2796\n",
      "Iteration 300: Current Loss = 0.2791\n",
      "Iteration 400: Current Loss = 0.2782\n",
      "Iteration 500: Current Loss = 0.2809\n",
      "Iteration 600: Current Loss = 0.2788\n",
      "Iteration 700: Current Loss = 0.2793\n",
      "Iteration 800: Current Loss = 0.2796\n",
      "Epoch 4, Loss: 0.2763\n",
      "Iteration 100: Current Loss = 0.2832\n",
      "Iteration 200: Current Loss = 0.2795\n",
      "Iteration 300: Current Loss = 0.2790\n",
      "Iteration 400: Current Loss = 0.2781\n",
      "Iteration 500: Current Loss = 0.2808\n",
      "Iteration 600: Current Loss = 0.2788\n",
      "Iteration 700: Current Loss = 0.2792\n",
      "Iteration 800: Current Loss = 0.2795\n",
      "Epoch 5, Loss: 0.2763\n"
     ]
    }
   ],
   "source": [
    "\n",
    "\n",
    "def softmax(xs):\n",
    "    return np.exp(xs) / np.sum(np.exp(xs), axis=0)\n",
    "def calculate_mse(out, target_word):\n",
    "    mse = np.mean((out - target_word) ** 2)\n",
    "    return mse\n",
    "    \n",
    "# Định nghĩa lớp RNN\n",
    "class RNN:\n",
    "    def __init__(self, input_size, output_size, hidden_size=512):\n",
    "        self.Whh = np.random.randn(hidden_size, hidden_size) / 1000\n",
    "        self.Wxh = np.random.randn(hidden_size, input_size) / 1000\n",
    "        self.Why = np.random.randn(output_size, hidden_size) / 1000\n",
    "        self.bh = np.zeros((hidden_size, 1))\n",
    "        self.by = np.zeros((output_size, 1))\n",
    "\n",
    "    def forward(self, inputs):\n",
    "        h = np.zeros((self.Whh.shape[0], 1))\n",
    "        self.last_inputs = inputs\n",
    "        self.last_hs = {0: h}\n",
    "        for i, x in enumerate(inputs):\n",
    "            h = np.tanh(self.Wxh @ x + self.Whh @ h + self.bh)\n",
    "            # print(h.shape)\n",
    "            self.last_hs[i + 1] = h\n",
    "        y = self.Why @ h + self.by\n",
    "    \n",
    "        return y, h\n",
    "\n",
    "    def backprop(self, d_y, learn_rate=2e-4):\n",
    "        n = len(self.last_inputs)\n",
    "        d_Why = d_y @ self.last_hs[n].T\n",
    "        d_by = d_y\n",
    "        d_Whh = np.zeros(self.Whh.shape)\n",
    "        d_Wxh = np.zeros(self.Wxh.shape)\n",
    "        d_bh = np.zeros(self.bh.shape)\n",
    "        d_h = self.Why.T @ d_y\n",
    "        for t in reversed(range(n)):\n",
    "            temp = ((1 - self.last_hs[t + 1] ** 2) * d_h)\n",
    "            d_bh += temp\n",
    "            d_Whh += temp @ self.last_hs[t].T\n",
    "            d_Wxh += temp @ self.last_inputs[t].T\n",
    "            d_h = self.Whh @ temp\n",
    "        for d in [d_Wxh, d_Whh, d_Why, d_bh, d_by]:\n",
    "            d[:] = np.clip(d, -1, 1)\n",
    "        self.Whh -= learn_rate * d_Whh\n",
    "        self.Wxh -= learn_rate * d_Wxh\n",
    "        self.Why -= learn_rate * d_Why\n",
    "        self.bh -= learn_rate * d_bh\n",
    "        self.by -= learn_rate * d_by\n",
    "\n",
    "# Khởi tạo RNN\n",
    "rnn = RNN(768, 768)\n",
    "\n",
    "import matplotlib.pyplot as plt\n",
    "\n",
    "loss_history = [] \n",
    "\n",
    "# Huấn luyện RNN\n",
    "def train_rnn(data, epochs=5):\n",
    "    global loss_history\n",
    "    for epoch in range(epochs):\n",
    "        loss = 0\n",
    "        cnt = 1\n",
    "        for input_words, target_word in data:\n",
    "            out, _ = rnn.forward(input_words)\n",
    "            # probs = softmax(out)\n",
    "            loss += calculate_mse( target_word, out) \n",
    "            d_L_d_y = (2*out - 2*target_word) / 768 \n",
    "            # d_L_d_y[target_idx] -= 1\n",
    "            # print(out.shape) \n",
    "            rnn.backprop(d_L_d_y)\n",
    "            if cnt % 100 == 0: \n",
    "                avg_loss = loss / cnt \n",
    "                print(f\"Iteration {cnt}: Current Loss = {avg_loss:.4f}\")\n",
    "            cnt = cnt + 1 \n",
    "        avg_loss = loss / len(data)\n",
    "        loss_history.append(avg_loss)\n",
    "        print(f\"Epoch {epoch + 1}, Loss: {avg_loss.item():.4f}\")\n",
    "\n",
    "\n",
    "train_rnn(training_data)\n"
   ]
  },
  {
   "cell_type": "code",
   "execution_count": 68,
   "metadata": {
    "execution": {
     "iopub.execute_input": "2024-12-23T15:36:19.737022Z",
     "iopub.status.busy": "2024-12-23T15:36:19.736563Z",
     "iopub.status.idle": "2024-12-23T15:36:20.119184Z",
     "shell.execute_reply": "2024-12-23T15:36:20.117955Z",
     "shell.execute_reply.started": "2024-12-23T15:36:19.736973Z"
    },
    "trusted": true
   },
   "outputs": [
    {
     "data": {
      "image/png": "[encoded data removed]",
      "text/plain": [
       "<Figure size 640x480 with 1 Axes>"
      ]
     },
     "metadata": {},
     "output_type": "display_data"
    }
   ],
   "source": [
    "plt.plot(range(1, len(loss_history) + 1), loss_history, label=\"Loss\")\n",
    "plt.xlabel(\"Epochs\")\n",
    "plt.ylabel(\"Loss\")\n",
    "plt.title(\"Training Loss Over Epochs\")\n",
    "plt.legend()\n",
    "plt.show()"
   ]
  },
  {
   "cell_type": "code",
   "execution_count": 104,
   "metadata": {
    "execution": {
     "iopub.execute_input": "2024-12-23T16:18:49.207009Z",
     "iopub.status.busy": "2024-12-23T16:18:49.206596Z",
     "iopub.status.idle": "2024-12-23T16:18:49.215257Z",
     "shell.execute_reply": "2024-12-23T16:18:49.214010Z",
     "shell.execute_reply.started": "2024-12-23T16:18:49.206977Z"
    },
    "trusted": true
   },
   "outputs": [],
   "source": [
    "def predict_next_words(input_words, top_k=2):\n",
    "    # Chuyển đổi câu thành embedding\n",
    "    encoded_input = tokenizer(input_words, return_tensors=\"pt\", padding=True, truncation=True, max_length=32, return_offsets_mapping=True, is_split_into_words=False )\n",
    "    input_ids = encoded_input['input_ids']\n",
    "    attention_mask = encoded_input['attention_mask']\n",
    "\n",
    "    # Tạo embedding từ mô hình\n",
    "    with torch.no_grad():\n",
    "        outputs = model(input_ids, attention_mask=attention_mask)\n",
    "    word_embeddings = outputs.last_hidden_state.squeeze(0)  # Shape: (sequence_length, hidden_size)\n",
    "\n",
    "    print(input_ids)\n",
    "    word_embeddings = [np.array(word.reshape(768, 1)) for word in word_embeddings]\n",
    "\n",
    "    # Truyền qua RNN\n",
    "    out, _ = rnn.forward(word_embeddings)\n",
    "\n",
    "    mse = [] \n",
    "    for (word, embedded_v) in embedded_words : \n",
    "        mse.append((word, calculate_mse(out, embedded_v)))\n",
    "\n",
    "    # print(embedded_words[:5]) \n",
    "    \n",
    "    mse_sorted = sorted(mse, key=lambda x: x[1]) \n",
    "    # print(mse_sorted[1][0])\n",
    "    predictions = [row[0] for row in mse_sortedattention_mask[:top_k]]\n",
    "    return predictions"
   ]
  },
  {
   "cell_type": "code",
   "execution_count": null,
   "metadata": {
    "execution": {
     "iopub.execute_input": "2024-12-23T16:18:54.595646Z",
     "iopub.status.busy": "2024-12-23T16:18:54.595289Z"
    },
    "trusted": true
   },
   "outputs": [
    {
     "name": "stdout",
     "output_type": "stream",
     "text": [
      "Enter a sentence (or type 'exit' to quit):  i am going to \n"
     ]
    },
    {
     "name": "stdout",
     "output_type": "stream",
     "text": [
      "tensor([[ 101, 1045, 2572, 2183, 2000,  102]])\n",
      "Input: i   a m   g o i n g   t o  \n",
      "Predicted next words: “Quite, “Seven!”\n"
     ]
    }
   ],
   "source": [
    "while True:\n",
    "    user_input = input(\"Enter a sentence (or type 'exit' to quit): \")\n",
    "    if user_input.lower() == 'exit':\n",
    "        print(\"Exiting the program. Goodbye!\")\n",
    "        break\n",
    "    input_words = user_input.lower()\n",
    "    try:\n",
    "        predicted_words = predict_next_words(input_words, top_k=2)\n",
    "        print(f\"Input: {' '.join(user_input)}\")\n",
    "        # print(predicted_words)\n",
    "        print(f\"Predicted next words: {', '.join(predicted_words)}\")\n",
    "    except KeyError as e:\n",
    "        print(f\"Error: {e}. Please ensure your input contains words from the vocabulary.\")"
   ]
  },
  {
   "cell_type": "code",
   "execution_count": null,
   "metadata": {
    "trusted": true
   },
   "outputs": [],
   "source": []
  }
 ],
 "metadata": {
  "kaggle": {
   "accelerator": "gpu",
   "dataSources": [
    {
     "datasetId": 2389252,
     "sourceId": 4032467,
     "sourceType": "datasetVersion"
    }
   ],
   "dockerImageVersionId": 30822,
   "isGpuEnabled": true,
   "isInternetEnabled": true,
   "language": "python",
   "sourceType": "notebook"
  },
  "kernelspec": {
   "display_name": "Python 3",
   "language": "python",
   "name": "python3"
  },
  "language_info": {
   "codemirror_mode": {
    "name": "ipython",
    "version": 3
   },
   "file_extension": ".py",
   "mimetype": "text/x-python",
   "name": "python",
   "nbconvert_exporter": "python",
   "pygments_lexer": "ipython3",
   "version": "3.12.2"
  }
 },
 "nbformat": 4,
 "nbformat_minor": 4
}
